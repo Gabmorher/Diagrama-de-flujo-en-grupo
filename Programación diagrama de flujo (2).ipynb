{
 "cells": [
  {
   "cell_type": "code",
   "execution_count": 8,
   "metadata": {},
   "outputs": [
    {
     "name": "stdout",
     "output_type": "stream",
     "text": [
      "Está siendo perseguida y voltea a revisar\n",
      "¿Hay algún lugar abierto? No\n",
      "Grita y mueve el cuerpo de forma extraña para alejar a quien la persigue\n",
      "¿Se alejó la persona? No\n",
      "Alista el llavero de defensa\n",
      "¿La persona la atacó? No\n",
      "Se detiene y espera a que se aleje\n",
      "Llega a la casa\n",
      "FIN\n"
     ]
    }
   ],
   "source": [
    "#Pregunta: Caminas en la noche por una calle solitaria y sientes que alguien te sigue ¿Cómo reaccionas?\n",
    "\n",
    "The_end = \"Llega a la casa\"\n",
    "while True: #Usamos el while para ejecutar el código mientras se cumpla la condición y para poder usar el break \n",
    "    print(\"Está siendo perseguida y voltea a revisar\") \n",
    "    p1 = int(input(\"¿Hay algún lugar abierto? (escoge 1= sí ó 2= No)\")) #Pregunta 1 (Utilizamos 1 y 2 para ir a la \"fija\" y evitar erroes/confusiones del usuario)\n",
    "    if p1 == 1:\n",
    "        print(\"¿Hay algún lugar abierto? Sí\") #Se muestra la pregunta con su respuesta para poder serguir el hilo de la historia\n",
    "        print(\"Entra y pide ayuda\")\n",
    "        print(The_end)\n",
    "        break #para terminar el código SI y solo SI ya se cumplió esa condición\n",
    "    else:\n",
    "        print(\"¿Hay algún lugar abierto? No\")\n",
    "        print(\"Grita y mueve el cuerpo de forma extraña para alejar a quien la persigue\")\n",
    "        p2 = int(input(\"¿Se alejó la persona? (escoge 1= sí ó 2= No)\")) #segunda pregunta\n",
    "        if p2 == 1:\n",
    "            print(\"¿Se alejó la persona? Sí\")\n",
    "            print(\"Está a salvo\")\n",
    "            print(The_end)\n",
    "            break\n",
    "        else:\n",
    "            print(\"¿Se alejó la persona? No\")\n",
    "            print(\"Alista el llavero de defensa\")\n",
    "            p3 = int(input(\"¿La persona la atacó?(escoge 1= sí ó 2= No)\")) #tercera pregunta\n",
    "            if  p3 == 1:\n",
    "                print(\"¿La persona la atacó? Sí\")\n",
    "                print(\"Lo lastima y sale corriendo\")\n",
    "                print(The_end)\n",
    "                break\n",
    "            else:\n",
    "                print(\"¿La persona la atacó? No\")\n",
    "                print(\"Se detiene y espera a que se aleje\")\n",
    "                print(The_end)\n",
    "                break\n",
    "print(\"FIN\")\n",
    "     \n",
    "        \n"
   ]
  }
 ],
 "metadata": {
  "kernelspec": {
   "display_name": "Python 3",
   "language": "python",
   "name": "python3"
  },
  "language_info": {
   "codemirror_mode": {
    "name": "ipython",
    "version": 3
   },
   "file_extension": ".py",
   "mimetype": "text/x-python",
   "name": "python",
   "nbconvert_exporter": "python",
   "pygments_lexer": "ipython3",
   "version": "3.12.4"
  }
 },
 "nbformat": 4,
 "nbformat_minor": 2
}
